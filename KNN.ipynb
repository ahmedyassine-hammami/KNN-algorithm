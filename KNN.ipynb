{
  "nbformat": 4,
  "nbformat_minor": 0,
  "metadata": {
    "colab": {
      "name": "KNN.ipynb",
      "provenance": [],
      "collapsed_sections": []
    },
    "kernelspec": {
      "name": "python3",
      "display_name": "Python 3"
    }
  },
  "cells": [
    {
      "cell_type": "markdown",
      "metadata": {
        "id": "CDWS6O0g20e_",
        "colab_type": "text"
      },
      "source": [
        "# **KNN Algorithm**\n",
        "\n",
        "---\n",
        "---\n",
        "Hanine HAMDI\n",
        "\n",
        "Ahmed Yassine HAMMAMI\n"
      ]
    },
    {
      "cell_type": "code",
      "metadata": {
        "id": "dXxSJYR4W7m-",
        "colab_type": "code",
        "colab": {}
      },
      "source": [
        "import numpy as np\n",
        "import matplotlib.pyplot as plt\n",
        "import pandas as pd\n",
        "import os"
      ],
      "execution_count": null,
      "outputs": []
    },
    {
      "cell_type": "markdown",
      "metadata": {
        "id": "FRIUSab7YQ5b",
        "colab_type": "text"
      },
      "source": [
        "## **Working with the first dataset**\n",
        "## Importing the data\n",
        "**We need here to assign column names to the dataset as follows :**"
      ]
    },
    {
      "cell_type": "code",
      "metadata": {
        "id": "DPgOnOjHXXTF",
        "colab_type": "code",
        "colab": {}
      },
      "source": [
        "headernames = ['id','Clump Thickness','Uniformity of Cell Size','Uniformity of Cell Shape','Marginal Adhesion','Single Epithelial Cell Size','Bare Nuclei','Bland Chromatin','Normal Nucleoli','Mitoses','Class']"
      ],
      "execution_count": null,
      "outputs": []
    },
    {
      "cell_type": "code",
      "metadata": {
        "id": "3c0T5vYKXoOm",
        "colab_type": "code",
        "colab": {
          "base_uri": "https://localhost:8080/",
          "height": 34
        },
        "outputId": "cd8aae4b-d7de-445e-9bc2-77e4a0a12b70"
      },
      "source": [
        "USE_COLAB = True\n",
        "UPLOAD_OUTPUTS = False\n",
        "if USE_COLAB:\n",
        "    # mount the goole drive\n",
        "    from google.colab import drive\n",
        "    drive.mount('/content/drive', force_remount=True)\n",
        "    # download data on GoogleDrive\n",
        "    data_dir = \"/content/drive/My Drive/ROB311/\"\n",
        "else:\n",
        "    data_dir = \"data/\""
      ],
      "execution_count": null,
      "outputs": [
        {
          "output_type": "stream",
          "text": [
            "Mounted at /content/drive\n"
          ],
          "name": "stdout"
        }
      ]
    },
    {
      "cell_type": "markdown",
      "metadata": {
        "id": "KYHoWOvd1JRo",
        "colab_type": "text"
      },
      "source": [
        "**Visualizing data in one table. Each colums presents one specification of a cell**"
      ]
    },
    {
      "cell_type": "code",
      "metadata": {
        "id": "_tBLQu8QXdFB",
        "colab_type": "code",
        "colab": {
          "base_uri": "https://localhost:8080/",
          "height": 252
        },
        "outputId": "0d52cbe1-16b6-405d-dc61-14f1e3677c2f"
      },
      "source": [
        "data = 'breast-cancer-wisconsin.csv'\n",
        "dataset = pd.read_csv( os.path.join(data_dir, data), index_col=0,names = headernames )\n",
        "dataset.head()"
      ],
      "execution_count": null,
      "outputs": [
        {
          "output_type": "execute_result",
          "data": {
            "text/html": [
              "<div>\n",
              "<style scoped>\n",
              "    .dataframe tbody tr th:only-of-type {\n",
              "        vertical-align: middle;\n",
              "    }\n",
              "\n",
              "    .dataframe tbody tr th {\n",
              "        vertical-align: top;\n",
              "    }\n",
              "\n",
              "    .dataframe thead th {\n",
              "        text-align: right;\n",
              "    }\n",
              "</style>\n",
              "<table border=\"1\" class=\"dataframe\">\n",
              "  <thead>\n",
              "    <tr style=\"text-align: right;\">\n",
              "      <th></th>\n",
              "      <th>Clump Thickness</th>\n",
              "      <th>Uniformity of Cell Size</th>\n",
              "      <th>Uniformity of Cell Shape</th>\n",
              "      <th>Marginal Adhesion</th>\n",
              "      <th>Single Epithelial Cell Size</th>\n",
              "      <th>Bare Nuclei</th>\n",
              "      <th>Bland Chromatin</th>\n",
              "      <th>Normal Nucleoli</th>\n",
              "      <th>Mitoses</th>\n",
              "      <th>Class</th>\n",
              "    </tr>\n",
              "    <tr>\n",
              "      <th>id</th>\n",
              "      <th></th>\n",
              "      <th></th>\n",
              "      <th></th>\n",
              "      <th></th>\n",
              "      <th></th>\n",
              "      <th></th>\n",
              "      <th></th>\n",
              "      <th></th>\n",
              "      <th></th>\n",
              "      <th></th>\n",
              "    </tr>\n",
              "  </thead>\n",
              "  <tbody>\n",
              "    <tr>\n",
              "      <th>1000025</th>\n",
              "      <td>5</td>\n",
              "      <td>1</td>\n",
              "      <td>1</td>\n",
              "      <td>1</td>\n",
              "      <td>2</td>\n",
              "      <td>1</td>\n",
              "      <td>3</td>\n",
              "      <td>1</td>\n",
              "      <td>1</td>\n",
              "      <td>2</td>\n",
              "    </tr>\n",
              "    <tr>\n",
              "      <th>1002945</th>\n",
              "      <td>5</td>\n",
              "      <td>4</td>\n",
              "      <td>4</td>\n",
              "      <td>5</td>\n",
              "      <td>7</td>\n",
              "      <td>10</td>\n",
              "      <td>3</td>\n",
              "      <td>2</td>\n",
              "      <td>1</td>\n",
              "      <td>2</td>\n",
              "    </tr>\n",
              "    <tr>\n",
              "      <th>1015425</th>\n",
              "      <td>3</td>\n",
              "      <td>1</td>\n",
              "      <td>1</td>\n",
              "      <td>1</td>\n",
              "      <td>2</td>\n",
              "      <td>2</td>\n",
              "      <td>3</td>\n",
              "      <td>1</td>\n",
              "      <td>1</td>\n",
              "      <td>2</td>\n",
              "    </tr>\n",
              "    <tr>\n",
              "      <th>1016277</th>\n",
              "      <td>6</td>\n",
              "      <td>8</td>\n",
              "      <td>8</td>\n",
              "      <td>1</td>\n",
              "      <td>3</td>\n",
              "      <td>4</td>\n",
              "      <td>3</td>\n",
              "      <td>7</td>\n",
              "      <td>1</td>\n",
              "      <td>2</td>\n",
              "    </tr>\n",
              "    <tr>\n",
              "      <th>1017023</th>\n",
              "      <td>4</td>\n",
              "      <td>1</td>\n",
              "      <td>1</td>\n",
              "      <td>3</td>\n",
              "      <td>2</td>\n",
              "      <td>1</td>\n",
              "      <td>3</td>\n",
              "      <td>1</td>\n",
              "      <td>1</td>\n",
              "      <td>2</td>\n",
              "    </tr>\n",
              "  </tbody>\n",
              "</table>\n",
              "</div>"
            ],
            "text/plain": [
              "         Clump Thickness  Uniformity of Cell Size  ...  Mitoses  Class\n",
              "id                                                 ...                \n",
              "1000025                5                        1  ...        1      2\n",
              "1002945                5                        4  ...        1      2\n",
              "1015425                3                        1  ...        1      2\n",
              "1016277                6                        8  ...        1      2\n",
              "1017023                4                        1  ...        1      2\n",
              "\n",
              "[5 rows x 10 columns]"
            ]
          },
          "metadata": {
            "tags": []
          },
          "execution_count": 208
        }
      ]
    },
    {
      "cell_type": "markdown",
      "metadata": {
        "id": "_-bvy1_T3jjh",
        "colab_type": "text"
      },
      "source": [
        "## Data Preprocessing\n",
        "**First of all, we need to divide our dataset into spefication data and class data.**\n",
        "\n",
        "**Some values of our data set are '?', so we need to replace this missing value by 0 to not have errors in our algorithm. ( value of zero will not affect data classification)**\n",
        "\n",
        "**Next, we will divide the data into train and test split. Following code will split the dataset into 80% training data and 20% of testing data.**"
      ]
    },
    {
      "cell_type": "code",
      "metadata": {
        "id": "8GvuDq_BY08O",
        "colab_type": "code",
        "colab": {}
      },
      "source": [
        "from sklearn.model_selection import train_test_split\n",
        "X = dataset.iloc[:, :-1].values\n",
        "Y = dataset.iloc[:, 9].values\n",
        "\n",
        "for i in range(X.shape[0]) :\n",
        "  for j in range(X.shape[1]) :\n",
        "    if X[i][j]=='?' :\n",
        "      X[i][j]=0\n",
        "\n",
        "X = X.astype(int)\n",
        "\n",
        "X_train, X_test, Y_train, Y_test = train_test_split(X, Y, test_size = 0.2)"
      ],
      "execution_count": null,
      "outputs": []
    },
    {
      "cell_type": "markdown",
      "metadata": {
        "id": "BN99KDrpgLOJ",
        "colab_type": "text"
      },
      "source": [
        "## Visualizing data \n",
        "**The following code allows to visualize the data of our training set.**\n",
        "\n",
        "**Our training data is composed of 9 values per each item, so we will reduce the data to thwo values by summing up the first 5 values and the 4 last values. This way, we are capable of depicting the data in 2-dimensional space:**\n"
      ]
    },
    {
      "cell_type": "code",
      "metadata": {
        "id": "3xD0bB8odDTi",
        "colab_type": "code",
        "colab": {
          "base_uri": "https://localhost:8080/",
          "height": 315
        },
        "outputId": "8bf8ccd5-af18-4444-9f43-9028b7a38684"
      },
      "source": [
        "C = X_train\n",
        "#summing data\n",
        "for i in range(X_train.shape[0]) :\n",
        "  C[i][0]=X_train[i][0]+X_train[i][1]+X_train[i][2]+X_train[i][3]+X_train[i][4]\n",
        "  C[i][1]=X_train[i][5]+X_train[i][6]+X_train[i][7]+X_train[i][8]\n",
        "\n",
        "fig, ax = plt.subplots()\n",
        "for label in [2, 4]:\n",
        "    mask = (Y_train == label)\n",
        "    ax.scatter(C[mask, 0], C[mask, 1])\n",
        "L=['Malignant','Benign']\n",
        "plt.title(\"Training Data\")\n",
        "ax.legend(L)\n",
        "s=0\n",
        "for j in range(Y_train.shape[0]) :\n",
        "  if Y_train[j]==2 : s+=1\n",
        "\n",
        "print('benign:',s, s/Y_train.shape[0])\n",
        "print('malignant',Y_train.shape[0]-s, 1-s/Y_train.shape[0])"
      ],
      "execution_count": null,
      "outputs": [
        {
          "output_type": "stream",
          "text": [
            "benign: 366 0.6547406082289803\n",
            "malignant 193 0.3452593917710197\n"
          ],
          "name": "stdout"
        },
        {
          "output_type": "display_data",
          "data": {
            "image/png": "[encoded data removed]",
            "text/plain": [
              "<Figure size 432x288 with 1 Axes>"
            ]
          },
          "metadata": {
            "tags": [],
            "needs_background": "light"
          }
        }
      ]
    },
    {
      "cell_type": "markdown",
      "metadata": {
        "id": "KCvBgI350ntA",
        "colab_type": "text"
      },
      "source": [
        "##Determining the Neighbors\n",
        "**In our KNN algorithm, we will need a function to calculate the distances between training data points and the data that we would like to classify.**\n",
        "\n",
        "**We have chosen the euclidian distance as it is a widely used in machine learning applications.**"
      ]
    },
    {
      "cell_type": "code",
      "metadata": {
        "id": "91apu3AYZBhM",
        "colab_type": "code",
        "colab": {}
      },
      "source": [
        "def distance(instance1, instance2):\n",
        "    \"\"\"\n",
        "    We will be using euclidien data for the classification\n",
        "    \"\"\"\n",
        "    # just in case, if the instances are lists or tuples:\n",
        "    instance1 = np.array(instance1) \n",
        "    instance2 = np.array(instance2)\n",
        "\n",
        "    return np.linalg.norm(instance1 - instance2)"
      ],
      "execution_count": null,
      "outputs": []
    },
    {
      "cell_type": "markdown",
      "metadata": {
        "id": "uzVNSP36111o",
        "colab_type": "text"
      },
      "source": [
        "**Neighbors are the k closest instances for a new test data in the training dataset.** \n",
        "\n",
        "**To locate the neighbors for a new test data, we must first calculate the distance between each training data to the new test data. We can do this using the distance function prepared above.**\n",
        "\n",
        "**Once distances are calculated, we must sort all of the records in the training dataset by their distance to the new data.** \n",
        "\n",
        "**We can then select the top k to return as the most similar neighbors.**"
      ]
    },
    {
      "cell_type": "code",
      "metadata": {
        "id": "FBr6Qflepro7",
        "colab_type": "code",
        "colab": {}
      },
      "source": [
        "def get_neighbors(x_train, y_train, x_test, k, distance=distance):\n",
        "\n",
        "    #get_neighors calculates a list of the k nearest neighbors of an instance 'x_test'.\n",
        "    #The list neighbors contains 3-tuples with  (index, dist, label)\n",
        "    #index    is the index from the x_train, \n",
        "    #dist     is the distance between the test_instance and the x_train[index]\n",
        "    #distance is a reference to a function used to calculate the distances\n",
        "\n",
        "    distances = []\n",
        "    for index in range(len(x_train)):\n",
        "        dist = distance(x_test, x_train[index])\n",
        "        distances.append((x_train[index], dist, y_train[index]))\n",
        "    distances.sort(key=lambda x: x[1])\n",
        "    neighbors = distances[:k]\n",
        "    return neighbors"
      ],
      "execution_count": null,
      "outputs": []
    },
    {
      "cell_type": "markdown",
      "metadata": {
        "id": "hKdSdX8_51or",
        "colab_type": "text"
      },
      "source": [
        "##Data prediction\n",
        "**After finding the k-nearest neighbors, we will try to predict the classes that our test data points belong to.**\n",
        "\n",
        "**Here, we will implement** *prediction* **function to have k neighbors to the**  *x_test* **. The most similar neighbors collected from the training dataset can be used to make predictions.**"
      ]
    },
    {
      "cell_type": "code",
      "metadata": {
        "id": "tgNuQ7lRZPWV",
        "colab_type": "code",
        "colab": {}
      },
      "source": [
        "# Classification in case of two classes\n",
        "def prediction(x_train,y_train,x_test,k,labels,distance=distance):\n",
        "  neighbors = get_neighbors(x_train,y_train,x_test,k,distance)\n",
        "  sum_class_1 = 0\n",
        "  for index in range(k):\n",
        "    if neighbors[index][2] == labels[0] :\n",
        "      sum_class_1 += 1\n",
        "  if sum_class_1 >= (k//2) +1:\n",
        "    y_test = labels[0]\n",
        "  else :\n",
        "    y_test = labels[1]\n",
        "  return y_test\n"
      ],
      "execution_count": null,
      "outputs": []
    },
    {
      "cell_type": "markdown",
      "metadata": {
        "id": "EhdtDTDJFMgI",
        "colab_type": "text"
      },
      "source": [
        "##Prediction data with our test data\n",
        "**We will predict all of our test data by calculating the 5 first neighbors and store our result in** *Y_predict* **set.**"
      ]
    },
    {
      "cell_type": "code",
      "metadata": {
        "id": "vmGl8zkzPaQ5",
        "colab_type": "code",
        "colab": {}
      },
      "source": [
        "k = 4\n",
        "Y_predict = np.zeros(Y_test.shape)\n",
        "for i in range(len(X_test)):\n",
        "  Y_predict[i] = prediction(X_train,Y_train,X_test[i],k,[2,4],distance=distance)"
      ],
      "execution_count": null,
      "outputs": []
    },
    {
      "cell_type": "markdown",
      "metadata": {
        "id": "XSijwBM6Pm0h",
        "colab_type": "text"
      },
      "source": [
        "### Calculating the MSE\n",
        "The Mean Squared Error of a predicted data measures the average squared difference between the estimated values and true value."
      ]
    },
    {
      "cell_type": "code",
      "metadata": {
        "id": "4JC8nRuNZhLL",
        "colab_type": "code",
        "colab": {
          "base_uri": "https://localhost:8080/",
          "height": 34
        },
        "outputId": "384c338b-37fa-40f8-d4e5-d68df5f6eb8d"
      },
      "source": [
        "summation = 0  #variable to store the summation of differences\n",
        "n = len(Y_test) #finding total number of items in list\n",
        "for i in range (0,n):  #looping through each element of the list\n",
        "  difference = Y_test[i] - Y_predict[i]  #finding the difference between observed and predicted value\n",
        "  squared_difference = difference**2  #taking square of the differene \n",
        "  summation = summation + squared_difference  #taking a sum of all the differences\n",
        "MSE = summation/n  #dividing summation by total values to obtain average\n",
        "print(\"The Mean Square Error is: \" , MSE)"
      ],
      "execution_count": null,
      "outputs": [
        {
          "output_type": "stream",
          "text": [
            "The Mean Square Error is:  0.11428571428571428\n"
          ],
          "name": "stdout"
        }
      ]
    },
    {
      "cell_type": "code",
      "metadata": {
        "id": "2DVhJniqtrA4",
        "colab_type": "code",
        "colab": {
          "base_uri": "https://localhost:8080/",
          "height": 68
        },
        "outputId": "d5df8c0f-cd2d-4a27-f612-79202de2023b"
      },
      "source": [
        "# Validating the classification function with the function KNeighborsClassifier available in the package sklearn \n",
        "from sklearn.neighbors import KNeighborsClassifier\n",
        "classifier = KNeighborsClassifier(n_neighbors = 4)\n",
        "classifier.fit(X_train, Y_train)\n",
        "Y_pred = classifier.predict(X_test)\n",
        "MSE = mean_squared_error(Y_test,Y_pred)\n",
        "print('KNeighborsClassifier FUNCTION\\n')\n",
        "print('MSE = ', MSE)"
      ],
      "execution_count": null,
      "outputs": [
        {
          "output_type": "stream",
          "text": [
            "KNeighborsClassifier FUNCTION\n",
            "\n",
            "MSE =  0.17142857142857143\n"
          ],
          "name": "stdout"
        }
      ]
    },
    {
      "cell_type": "markdown",
      "metadata": {
        "id": "WG-Tqm-sQu7a",
        "colab_type": "text"
      },
      "source": [
        "### Calculating the accuracy"
      ]
    },
    {
      "cell_type": "code",
      "metadata": {
        "id": "T3cqnTH6XTml",
        "colab_type": "code",
        "colab": {
          "base_uri": "https://localhost:8080/",
          "height": 68
        },
        "outputId": "bf486170-8adc-4168-aa83-f08bfcde4707"
      },
      "source": [
        "# calculating the accuracy \n",
        "def accuracy(y_test,y_predict):\n",
        "  \"\"\"\n",
        "  This function calculates the accuracy of a predictor\n",
        "  \"\"\"\n",
        "  sum = 0\n",
        "  for index in range(len(y_test)):\n",
        "    if y_test[index] == y_predict[index]:\n",
        "      sum += 1\n",
        "  accuracy = sum/len(y_test)\n",
        "  return accuracy\n",
        "\n",
        "print('LOCAL CLASSIFICATION FUNCTION\\n')\n",
        "print('ACCURACY = ', accuracy(Y_test,Y_predict))"
      ],
      "execution_count": null,
      "outputs": [
        {
          "output_type": "stream",
          "text": [
            "LOCAL CLASSIFICATION FUNCTION\n",
            "\n",
            "ACCURACY =  0.7071428571428572\n"
          ],
          "name": "stdout"
        }
      ]
    },
    {
      "cell_type": "code",
      "metadata": {
        "id": "9xIMJFDPqzir",
        "colab_type": "code",
        "colab": {
          "base_uri": "https://localhost:8080/",
          "height": 68
        },
        "outputId": "ef620e91-2472-4de9-b8bc-6d2d9e9e2cd6"
      },
      "source": [
        "# Verification with the functions available in the package sklearn\n",
        "from sklearn.metrics import confusion_matrix, accuracy_score\n",
        "result1 = accuracy_score(Y_test,Y_predict)\n",
        "print('KNeighborsClassifier FUNCTION\\n')\n",
        "print('ACCURACY = ', result1)"
      ],
      "execution_count": null,
      "outputs": [
        {
          "output_type": "stream",
          "text": [
            "KNeighborsClassifier FUNCTION\n",
            "\n",
            "ACCURACY =  0.7071428571428572\n"
          ],
          "name": "stdout"
        }
      ]
    },
    {
      "cell_type": "markdown",
      "metadata": {
        "id": "gbJTB0VTRRYQ",
        "colab_type": "text"
      },
      "source": [
        "### Calculating the confusion matrix"
      ]
    },
    {
      "cell_type": "code",
      "metadata": {
        "id": "ZLky1Y-GYuAB",
        "colab_type": "code",
        "colab": {
          "base_uri": "https://localhost:8080/",
          "height": 102
        },
        "outputId": "e4b433f9-86c7-4a92-fd14-f2debe52f86f"
      },
      "source": [
        "def confusion_matrix_local(y_test,y_predict,labels):\n",
        "  sum_1 = 0   # real class 1, preditct class 1\n",
        "  sum_2 = 0   # real class 2, predict class 1\n",
        "  sum_3 = 0   # real class 1, predict class 2\n",
        "  sum_4 = 0   # real class 2, predict class 2\n",
        "  for index in range(len(y_test)):\n",
        "    if y_test[index] == labels[0] :\n",
        "      if y_predict[index] == labels[0] :\n",
        "        sum_1 += 1\n",
        "      else :\n",
        "        sum_3 += 1\n",
        "    else :\n",
        "      if y_predict[index] == labels[1] :\n",
        "        sum_4 += 1\n",
        "      else :\n",
        "        sum_2 += 1\n",
        "  confusion_matrix = np.array([[sum_1,sum_3],\n",
        "                            [sum_2,sum_4]])\n",
        "  return confusion_matrix\n",
        "print('LOCAL CLASSIFICATION FUNCTION\\n')\n",
        "print('CONFUSION_MATRIX = \\n', confusion_matrix_local(Y_test,Y_predict,[2,4]))"
      ],
      "execution_count": null,
      "outputs": [
        {
          "output_type": "stream",
          "text": [
            "LOCAL CLASSIFICATION FUNCTION\n",
            "\n",
            "CONFUSION_MATRIX = \n",
            " [[92  0]\n",
            " [41  7]]\n"
          ],
          "name": "stdout"
        }
      ]
    },
    {
      "cell_type": "code",
      "metadata": {
        "id": "WsDx2UH8deMC",
        "colab_type": "code",
        "colab": {
          "base_uri": "https://localhost:8080/",
          "height": 102
        },
        "outputId": "f5fa1d49-34cf-4394-b9ed-09d0af16b130"
      },
      "source": [
        "# verification with the functions available in the package sklearn\n",
        "result = confusion_matrix(Y_test, Y_predict)\n",
        "print('KNeighborsClassifier FUNCTION\\n')\n",
        "print('CONFUSION_FUNCTION = \\n', result)"
      ],
      "execution_count": null,
      "outputs": [
        {
          "output_type": "stream",
          "text": [
            "KNeighborsClassifier FUNCTION\n",
            "\n",
            "CONFUSION_FUNCTION = \n",
            " [[92  0]\n",
            " [41  7]]\n"
          ],
          "name": "stdout"
        }
      ]
    },
    {
      "cell_type": "markdown",
      "metadata": {
        "id": "_KudpyzCsSdW",
        "colab_type": "text"
      },
      "source": [
        "### Choosing the best K with maximises the performances of the classification algorithm"
      ]
    },
    {
      "cell_type": "code",
      "metadata": {
        "id": "_hD37hkCn8X8",
        "colab_type": "code",
        "colab": {
          "base_uri": "https://localhost:8080/",
          "height": 153
        },
        "outputId": "25b62ec9-a4fb-439b-dceb-22a6c31fd2da"
      },
      "source": [
        "def K_choice(y_test,x_test,y_train,x_train):\n",
        "  ACCURACY = []\n",
        "  for k in range(2,10):\n",
        "    y_predict = np.zeros(y_test.shape)\n",
        "    for i in range(len(x_test)):\n",
        "      y_predict[i] = prediction(x_train,y_train,x_test[i],k,[2,4],distance=distance)\n",
        "    a = accuracy(y_test,y_predict)\n",
        "    ACCURACY.append(a)\n",
        "  # recherche du max de ACCURACY \n",
        "  max = 0\n",
        "  k_max = 0\n",
        "  for index in range(len(ACCURACY)):\n",
        "    if ACCURACY[index] > max :\n",
        "      max = ACCURACY[index]\n",
        "      k_max = index + 2\n",
        "  return [max,k_max]\n",
        "\n",
        "best_choice = K_choice(Y_test,X_test,Y_train,X_train)\n",
        "print('MAX = ',best_choice[0])\n",
        "print('K_max = ',best_choice[1]) \n",
        "\n",
        "k = best_choice[1]\n",
        "Y_predict_new = np.zeros(Y_test.shape)\n",
        "for i in range(len(X_test)):\n",
        "  Y_predict_new[i] = prediction(X_train,Y_train,X_test[i],k,[2,4],distance=distance)\n",
        "print(Y_predict_new)\n"
      ],
      "execution_count": null,
      "outputs": [
        {
          "output_type": "stream",
          "text": [
            "MAX =  0.9714285714285714\n",
            "K_max =  4\n",
            "[2. 4. 2. 2. 4. 4. 4. 2. 2. 2. 2. 4. 4. 4. 2. 4. 2. 4. 4. 4. 4. 2. 2. 4.\n",
            " 2. 4. 4. 2. 2. 4. 4. 2. 4. 2. 2. 2. 4. 2. 4. 2. 2. 2. 2. 2. 2. 2. 4. 2.\n",
            " 2. 2. 2. 4. 2. 2. 4. 4. 4. 2. 2. 4. 2. 2. 4. 2. 2. 2. 2. 2. 4. 2. 2. 2.\n",
            " 2. 2. 4. 2. 4. 2. 2. 4. 4. 2. 2. 4. 2. 2. 2. 2. 4. 2. 4. 4. 2. 2. 2. 2.\n",
            " 2. 4. 2. 2. 2. 4. 4. 2. 4. 2. 4. 2. 2. 4. 2. 4. 2. 2. 4. 2. 2. 2. 2. 2.\n",
            " 4. 4. 2. 2. 4. 2. 2. 2. 2. 2. 2. 2. 4. 4. 2. 2. 2. 4. 2. 2.]\n"
          ],
          "name": "stdout"
        }
      ]
    },
    {
      "cell_type": "markdown",
      "metadata": {
        "id": "Rt5FpWSM1VrP",
        "colab_type": "text"
      },
      "source": [
        "### Visualisation of test and predicted data "
      ]
    },
    {
      "cell_type": "code",
      "metadata": {
        "id": "KyaoSOXdSDBj",
        "colab_type": "code",
        "colab": {
          "base_uri": "https://localhost:8080/",
          "height": 298
        },
        "outputId": "e6130fa8-6d3d-4124-da70-763daf6d9795"
      },
      "source": [
        "C = X_test\n",
        "#summing data\n",
        "for i in range(X_test.shape[0]) :\n",
        "  C[i][0]=X_test[i][0]+X_test[i][1]+X_test[i][2]+X_test[i][3]+X_test[i][4]\n",
        "  C[i][1]=X_test[i][5]+X_test[i][6]+X_test[i][7]+X_test[i][8]\n",
        "\n",
        "fig, ax = plt.subplots()\n",
        "for label in [2, 4]:\n",
        "    mask = (Y_test == label)\n",
        "    ax.scatter(C[mask, 0], C[mask, 1])\n",
        "L=['Malignant','Benign']\n",
        "plt.title(\"Test Data\")\n",
        "ax.legend(L)"
      ],
      "execution_count": null,
      "outputs": [
        {
          "output_type": "execute_result",
          "data": {
            "text/plain": [
              "<matplotlib.legend.Legend at 0x7efd1f56b978>"
            ]
          },
          "metadata": {
            "tags": []
          },
          "execution_count": 245
        },
        {
          "output_type": "display_data",
          "data": {
            "image/png": "[encoded data removed]",
            "text/plain": [
              "<Figure size 432x288 with 1 Axes>"
            ]
          },
          "metadata": {
            "tags": [],
            "needs_background": "light"
          }
        }
      ]
    },
    {
      "cell_type": "code",
      "metadata": {
        "id": "WvscVMVa3DA1",
        "colab_type": "code",
        "colab": {
          "base_uri": "https://localhost:8080/",
          "height": 298
        },
        "outputId": "302acac3-d1fb-4237-d159-c18573c85c39"
      },
      "source": [
        "fig, ax = plt.subplots()\n",
        "for label in [2, 4]:\n",
        "    mask = (Y_predict== label)\n",
        "    ax.scatter(C[mask, 0], C[mask, 1])\n",
        "L=['Malignant','Benign']\n",
        "plt.title(\"Predicted Data \")\n",
        "ax.legend(L)"
      ],
      "execution_count": null,
      "outputs": [
        {
          "output_type": "execute_result",
          "data": {
            "text/plain": [
              "<matplotlib.legend.Legend at 0x7efd1f53ce80>"
            ]
          },
          "metadata": {
            "tags": []
          },
          "execution_count": 246
        },
        {
          "output_type": "display_data",
          "data": {
            "image/png": "[encoded data removed]",
            "text/plain": [
              "<Figure size 432x288 with 1 Axes>"
            ]
          },
          "metadata": {
            "tags": [],
            "needs_background": "light"
          }
        }
      ]
    },
    {
      "cell_type": "markdown",
      "metadata": {
        "id": "S-2CrykPYb1f",
        "colab_type": "text"
      },
      "source": [
        "## Working with the second dataset \n",
        "## Importing the data\n",
        "**We need here to assign column names to the dataset as follows :**\n"
      ]
    },
    {
      "cell_type": "code",
      "metadata": {
        "id": "lsiflYDJYh5G",
        "colab_type": "code",
        "colab": {
          "base_uri": "https://localhost:8080/",
          "height": 34
        },
        "outputId": "fcfd5f73-544c-4fa6-f18a-99e88762780d"
      },
      "source": [
        "headernames2 = [\"Age of patient at time of operation\",\"Patient's year of operation\",\"Number of positive axillary nodes detected\",\"Survival status\"]\n",
        "USE_COLAB = True\n",
        "UPLOAD_OUTPUTS = False\n",
        "if USE_COLAB:\n",
        "    # mount the goole drive\n",
        "    from google.colab import drive\n",
        "    drive.mount('/content/drive', force_remount=True)\n",
        "    # download data on GoogleDrive\n",
        "    data_dir = \"/content/drive/My Drive/ROB311/\"\n",
        "else:\n",
        "    data_dir = \"data/\""
      ],
      "execution_count": null,
      "outputs": [
        {
          "output_type": "stream",
          "text": [
            "Mounted at /content/drive\n"
          ],
          "name": "stdout"
        }
      ]
    },
    {
      "cell_type": "code",
      "metadata": {
        "id": "Hyjy8Rnhb352",
        "colab_type": "code",
        "colab": {
          "base_uri": "https://localhost:8080/",
          "height": 204
        },
        "outputId": "c03c8a89-4395-42a7-aa0f-28b99316b45a"
      },
      "source": [
        "data2 = 'haberman.csv'\n",
        "dataset2 = pd.read_csv( os.path.join(data_dir, data2),names = headernames2 )\n",
        "dataset2.head()"
      ],
      "execution_count": null,
      "outputs": [
        {
          "output_type": "execute_result",
          "data": {
            "text/html": [
              "<div>\n",
              "<style scoped>\n",
              "    .dataframe tbody tr th:only-of-type {\n",
              "        vertical-align: middle;\n",
              "    }\n",
              "\n",
              "    .dataframe tbody tr th {\n",
              "        vertical-align: top;\n",
              "    }\n",
              "\n",
              "    .dataframe thead th {\n",
              "        text-align: right;\n",
              "    }\n",
              "</style>\n",
              "<table border=\"1\" class=\"dataframe\">\n",
              "  <thead>\n",
              "    <tr style=\"text-align: right;\">\n",
              "      <th></th>\n",
              "      <th>Age of patient at time of operation</th>\n",
              "      <th>Patient's year of operation</th>\n",
              "      <th>Number of positive axillary nodes detected</th>\n",
              "      <th>Survival status</th>\n",
              "    </tr>\n",
              "  </thead>\n",
              "  <tbody>\n",
              "    <tr>\n",
              "      <th>0</th>\n",
              "      <td>30</td>\n",
              "      <td>64</td>\n",
              "      <td>1</td>\n",
              "      <td>1</td>\n",
              "    </tr>\n",
              "    <tr>\n",
              "      <th>1</th>\n",
              "      <td>30</td>\n",
              "      <td>62</td>\n",
              "      <td>3</td>\n",
              "      <td>1</td>\n",
              "    </tr>\n",
              "    <tr>\n",
              "      <th>2</th>\n",
              "      <td>30</td>\n",
              "      <td>65</td>\n",
              "      <td>0</td>\n",
              "      <td>1</td>\n",
              "    </tr>\n",
              "    <tr>\n",
              "      <th>3</th>\n",
              "      <td>31</td>\n",
              "      <td>59</td>\n",
              "      <td>2</td>\n",
              "      <td>1</td>\n",
              "    </tr>\n",
              "    <tr>\n",
              "      <th>4</th>\n",
              "      <td>31</td>\n",
              "      <td>65</td>\n",
              "      <td>4</td>\n",
              "      <td>1</td>\n",
              "    </tr>\n",
              "  </tbody>\n",
              "</table>\n",
              "</div>"
            ],
            "text/plain": [
              "   Age of patient at time of operation  ...  Survival status\n",
              "0                                   30  ...                1\n",
              "1                                   30  ...                1\n",
              "2                                   30  ...                1\n",
              "3                                   31  ...                1\n",
              "4                                   31  ...                1\n",
              "\n",
              "[5 rows x 4 columns]"
            ]
          },
          "metadata": {
            "tags": []
          },
          "execution_count": 248
        }
      ]
    },
    {
      "cell_type": "markdown",
      "metadata": {
        "id": "3lTUir0d5Tdf",
        "colab_type": "text"
      },
      "source": [
        "## Data preprocessing\n",
        "**Same as we have done with the fist data, we will divide the dataset into train and test split. Following code will split the dataset into 80% training data and 20% of testing data.**\n"
      ]
    },
    {
      "cell_type": "code",
      "metadata": {
        "id": "vmiKZt1icK1P",
        "colab_type": "code",
        "colab": {}
      },
      "source": [
        "X2 = dataset2.iloc[:, [0,1,2]].values\n",
        "Y2 = dataset2.iloc[:, 3].values\n",
        "\n",
        "X2_train, X2_test, Y2_train, Y2_test = train_test_split(X2, Y2, test_size = 0.2)"
      ],
      "execution_count": null,
      "outputs": []
    },
    {
      "cell_type": "markdown",
      "metadata": {
        "id": "YGAM6Fpy5zdI",
        "colab_type": "text"
      },
      "source": [
        "## Visualizing data \n",
        "**The following code allows to visualize the data of our training set.**\n",
        "\n",
        "**Our training data is composed of 3 values per each item, so we will reduce the data to thwo values by summing up the first 2 values so that they represent just one feature. This way, we are capable of depicting the data in 2-dimensional space as we have done with the first dataset:**"
      ]
    },
    {
      "cell_type": "code",
      "metadata": {
        "id": "52X5KH_46R9l",
        "colab_type": "code",
        "colab": {
          "base_uri": "https://localhost:8080/",
          "height": 298
        },
        "outputId": "3a6b6d9e-11f8-4ad1-f800-9db8d1d49a31"
      },
      "source": [
        "C = X2_train\n",
        "#summing data\n",
        "for i in range(X2_train.shape[0]) :\n",
        "  C[i][0]=X2_train[i][0]+X_train[i][1]\n",
        "  C[i][1]=X_train[i][2]\n",
        "\n",
        "fig, ax = plt.subplots()\n",
        "for label in [1,2]:\n",
        "    mask = (Y2_train == label)\n",
        "    ax.scatter(C[mask, 0], C[mask, 1])\n",
        "L=['Survival','Death']\n",
        "plt.title(\"Training Data\")\n",
        "ax.legend(L)"
      ],
      "execution_count": null,
      "outputs": [
        {
          "output_type": "execute_result",
          "data": {
            "text/plain": [
              "<matplotlib.legend.Legend at 0x7efd1f4bfac8>"
            ]
          },
          "metadata": {
            "tags": []
          },
          "execution_count": 250
        },
        {
          "output_type": "display_data",
          "data": {
            "image/png": "[encoded data removed]",
            "text/plain": [
              "<Figure size 432x288 with 1 Axes>"
            ]
          },
          "metadata": {
            "tags": [],
            "needs_background": "light"
          }
        }
      ]
    },
    {
      "cell_type": "markdown",
      "metadata": {
        "id": "3tR8-Ylh9TnI",
        "colab_type": "text"
      },
      "source": [
        "##Data prediction"
      ]
    },
    {
      "cell_type": "code",
      "metadata": {
        "id": "N0BHN5Zic3_p",
        "colab_type": "code",
        "colab": {}
      },
      "source": [
        "k = 3\n",
        "Y2_predict = np.zeros(Y2_test.shape)\n",
        "for i in range(len(X2_test)):\n",
        "  Y2_predict[i] = prediction(X2_train,Y2_train,X2_test[i],k,[1,2],distance=distance)"
      ],
      "execution_count": null,
      "outputs": []
    },
    {
      "cell_type": "markdown",
      "metadata": {
        "id": "gyM3EKh29ciE",
        "colab_type": "text"
      },
      "source": [
        "### Calculating the MSE"
      ]
    },
    {
      "cell_type": "code",
      "metadata": {
        "id": "VI-q2scR9dpf",
        "colab_type": "code",
        "colab": {
          "base_uri": "https://localhost:8080/",
          "height": 68
        },
        "outputId": "7149e408-8703-47e5-c001-5e3e2d3adf66"
      },
      "source": [
        "from sklearn.metrics import mean_squared_error\n",
        "# calculating the MSE of Y_predict\n",
        "MSE = mean_squared_error(Y2_test,Y2_predict)\n",
        "print('LOCAL CLASSIFICATION FUNCTION\\n')\n",
        "print('MSE = ', MSE)"
      ],
      "execution_count": null,
      "outputs": [
        {
          "output_type": "stream",
          "text": [
            "LOCAL CLASSIFICATION FUNCTION\n",
            "\n",
            "MSE =  0.22580645161290322\n"
          ],
          "name": "stdout"
        }
      ]
    },
    {
      "cell_type": "code",
      "metadata": {
        "id": "PPE_oFFn9sn0",
        "colab_type": "code",
        "colab": {
          "base_uri": "https://localhost:8080/",
          "height": 68
        },
        "outputId": "2736e8fd-dbd6-4da1-a483-33978123f187"
      },
      "source": [
        "# Validating the classification function with the function KNeighborsClassifier available in the package sklearn \n",
        "from sklearn.neighbors import KNeighborsClassifier\n",
        "\n",
        "classifier = KNeighborsClassifier(n_neighbors = 3)\n",
        "classifier.fit(X2_train, Y2_train)\n",
        "Y2_pred = classifier.predict(X2_test)\n",
        "MSE = mean_squared_error(Y2_test,Y2_pred)\n",
        "print('KNeighborsClassifier FUNCTION\\n')\n",
        "print('MSE = ', MSE)"
      ],
      "execution_count": null,
      "outputs": [
        {
          "output_type": "stream",
          "text": [
            "KNeighborsClassifier FUNCTION\n",
            "\n",
            "MSE =  0.24193548387096775\n"
          ],
          "name": "stdout"
        }
      ]
    },
    {
      "cell_type": "markdown",
      "metadata": {
        "id": "_1k4qKAS95GA",
        "colab_type": "text"
      },
      "source": [
        "### Calculating the accuracy"
      ]
    },
    {
      "cell_type": "code",
      "metadata": {
        "id": "YSF_36usepB6",
        "colab_type": "code",
        "colab": {
          "base_uri": "https://localhost:8080/",
          "height": 68
        },
        "outputId": "1dc0b65c-bf13-4eb9-d581-b807373948d1"
      },
      "source": [
        "print('LOCAL CLASSIFICATION FUNCTION\\n')\n",
        "print('ACCURACY = ', accuracy(Y2_test,Y2_predict))"
      ],
      "execution_count": null,
      "outputs": [
        {
          "output_type": "stream",
          "text": [
            "LOCAL CLASSIFICATION FUNCTION\n",
            "\n",
            "ACCURACY =  0.7580645161290323\n"
          ],
          "name": "stdout"
        }
      ]
    },
    {
      "cell_type": "code",
      "metadata": {
        "id": "XOoGgkk--CVz",
        "colab_type": "code",
        "colab": {
          "base_uri": "https://localhost:8080/",
          "height": 68
        },
        "outputId": "863df3aa-9e71-4a92-ef25-b3e3171fd5a3"
      },
      "source": [
        "# Verification with the functions available in the package sklearn\n",
        "from sklearn.metrics import confusion_matrix, accuracy_score\n",
        "result1 = accuracy_score(Y2_test,Y2_predict)\n",
        "print('KNeighborsClassifier FUNCTION\\n')\n",
        "print('ACCURACY = ', result1)"
      ],
      "execution_count": null,
      "outputs": [
        {
          "output_type": "stream",
          "text": [
            "KNeighborsClassifier FUNCTION\n",
            "\n",
            "ACCURACY =  0.7580645161290323\n"
          ],
          "name": "stdout"
        }
      ]
    },
    {
      "cell_type": "markdown",
      "metadata": {
        "id": "EdV9cH0W-PhT",
        "colab_type": "text"
      },
      "source": [
        "### Calculating the confusion matrix"
      ]
    },
    {
      "cell_type": "code",
      "metadata": {
        "id": "YhRBas4--Q3w",
        "colab_type": "code",
        "colab": {
          "base_uri": "https://localhost:8080/",
          "height": 102
        },
        "outputId": "00ab2e50-5ec7-4f7d-cade-4df0589e39da"
      },
      "source": [
        "print('LOCAL CLASSIFICATION FUNCTION\\n')\n",
        "print('CONFUSION_MATRIX = \\n', confusion_matrix_local(Y2_test,Y2_predict,[1,2]))"
      ],
      "execution_count": null,
      "outputs": [
        {
          "output_type": "stream",
          "text": [
            "LOCAL CLASSIFICATION FUNCTION\n",
            "\n",
            "CONFUSION_MATRIX = \n",
            " [[44  4]\n",
            " [11  3]]\n"
          ],
          "name": "stdout"
        }
      ]
    },
    {
      "cell_type": "code",
      "metadata": {
        "id": "q8E7Nsa-e5pH",
        "colab_type": "code",
        "colab": {
          "base_uri": "https://localhost:8080/",
          "height": 102
        },
        "outputId": "d760591f-3aef-426c-b5ce-5b69919ffe24"
      },
      "source": [
        "# verification with the functions available in the package sklearn\n",
        "result = confusion_matrix(Y2_test, Y2_predict)\n",
        "print('KNeighborsClassifier FUNCTION\\n')\n",
        "print('CONFUSION_FUNCTION = \\n', result)"
      ],
      "execution_count": null,
      "outputs": [
        {
          "output_type": "stream",
          "text": [
            "KNeighborsClassifier FUNCTION\n",
            "\n",
            "CONFUSION_FUNCTION = \n",
            " [[44  4]\n",
            " [11  3]]\n"
          ],
          "name": "stdout"
        }
      ]
    },
    {
      "cell_type": "markdown",
      "metadata": {
        "id": "_vy9oCGTAB6l",
        "colab_type": "text"
      },
      "source": [
        "### Choosing the best K with maximises the performances of the classification algorithm"
      ]
    },
    {
      "cell_type": "code",
      "metadata": {
        "id": "uWCNYjWqjp3Q",
        "colab_type": "code",
        "colab": {
          "base_uri": "https://localhost:8080/",
          "height": 51
        },
        "outputId": "8613cd2d-6cef-4257-d52d-23d13fa67ce1"
      },
      "source": [
        "best_choice2 = K_choice(Y2_test,X2_test,Y2_train,X2_train)\n",
        "print('MAX = ',best_choice2[0])\n",
        "print('K_max = ',best_choice2[1]) "
      ],
      "execution_count": null,
      "outputs": [
        {
          "output_type": "stream",
          "text": [
            "MAX =  0.04838709677419355\n",
            "K_max =  3\n"
          ],
          "name": "stdout"
        }
      ]
    },
    {
      "cell_type": "markdown",
      "metadata": {
        "id": "KwU3XVYbAF6O",
        "colab_type": "text"
      },
      "source": [
        "### Visualisation of test and predicted data "
      ]
    },
    {
      "cell_type": "code",
      "metadata": {
        "id": "Udok_METxWlZ",
        "colab_type": "code",
        "colab": {
          "base_uri": "https://localhost:8080/",
          "height": 298
        },
        "outputId": "9b9f4399-3032-40f3-f632-eaf3b879bc03"
      },
      "source": [
        "C = X2_test\n",
        "#summing data\n",
        "for i in range(X2_test.shape[0]) :\n",
        "  C[i][0]=X2_test[i][0]+X2_test[i][1]\n",
        "  C[i][1]=X2_test[i][2]\n",
        "\n",
        "fig, ax = plt.subplots()\n",
        "for label in [1, 2]:\n",
        "    mask = (Y2_test == label)\n",
        "    ax.scatter(C[mask, 0], C[mask, 1])\n",
        "L=['Survival','Death']\n",
        "plt.title(\"Test Data\")\n",
        "ax.legend(L)"
      ],
      "execution_count": null,
      "outputs": [
        {
          "output_type": "execute_result",
          "data": {
            "text/plain": [
              "<matplotlib.legend.Legend at 0x7efd1f389ba8>"
            ]
          },
          "metadata": {
            "tags": []
          },
          "execution_count": 273
        },
        {
          "output_type": "display_data",
          "data": {
            "image/png": "[encoded data removed]",
            "text/plain": [
              "<Figure size 432x288 with 1 Axes>"
            ]
          },
          "metadata": {
            "tags": [],
            "needs_background": "light"
          }
        }
      ]
    },
    {
      "cell_type": "code",
      "metadata": {
        "id": "m-_-BTEXAjvP",
        "colab_type": "code",
        "colab": {
          "base_uri": "https://localhost:8080/",
          "height": 298
        },
        "outputId": "a534180b-ea82-4047-fcdf-ef8df471a0cc"
      },
      "source": [
        "fig, ax = plt.subplots()\n",
        "for label in [1, 2]:\n",
        "    mask = (Y2_predict == label)\n",
        "    ax.scatter(C[mask, 0], C[mask, 1])\n",
        "L=['Survival','Death']\n",
        "plt.title(\"Predicted Data\")\n",
        "ax.legend(L)"
      ],
      "execution_count": null,
      "outputs": [
        {
          "output_type": "execute_result",
          "data": {
            "text/plain": [
              "<matplotlib.legend.Legend at 0x7efd1f3d37f0>"
            ]
          },
          "metadata": {
            "tags": []
          },
          "execution_count": 274
        },
        {
          "output_type": "display_data",
          "data": {
            "image/png": "[encoded data removed]",
            "text/plain": [
              "<Figure size 432x288 with 1 Axes>"
            ]
          },
          "metadata": {
            "tags": [],
            "needs_background": "light"
          }
        }
      ]
    },
    {
      "cell_type": "code",
      "metadata": {
        "id": "Bi0ekC-HxiPW",
        "colab_type": "code",
        "colab": {
          "base_uri": "https://localhost:8080/",
          "height": 51
        },
        "outputId": "7006378b-1656-46a7-93a5-1dc8dc299735"
      },
      "source": [
        "# calcul de la matrice de confusion \n",
        "sum_1 = 0   # classe réelle 1, prédit classe 1\n",
        "sum_2 = 0   # classe réelle 2, prédit classe 1\n",
        "sum_3 = 0   # classe réelle 1, prédit classe 2\n",
        "sum_4 = 0   # classe réelle 2, prédit classe 2\n",
        "for index in range(len(Y2_test)):\n",
        "  if Y2_test[index] == 1 :\n",
        "    if Y2_predict[index] == 1 :\n",
        "      sum_1 += 1\n",
        "    else :\n",
        "      sum_3 += 1\n",
        "  else :\n",
        "    if Y2_predict[index] == 2 :\n",
        "      sum_4 += 1\n",
        "    else :\n",
        "      sum_2 += 1\n",
        "confusion_matrix = np.array([[sum_1,sum_3],\n",
        "                            [sum_2,sum_4]])\n",
        "confusion_matrix"
      ],
      "execution_count": null,
      "outputs": [
        {
          "output_type": "execute_result",
          "data": {
            "text/plain": [
              "array([[48,  0],\n",
              "       [14,  0]])"
            ]
          },
          "metadata": {
            "tags": []
          },
          "execution_count": 264
        }
      ]
    },
    {
      "cell_type": "code",
      "metadata": {
        "id": "meRJDcECxwot",
        "colab_type": "code",
        "colab": {
          "base_uri": "https://localhost:8080/",
          "height": 51
        },
        "outputId": "a8928523-4173-4b59-b559-d14ffa491df0"
      },
      "source": [
        "# vérification avec la fonction prédéfinie \n",
        "from sklearn.metrics import confusion_matrix, accuracy_score\n",
        "result = confusion_matrix(Y2_test, Y2_predict)\n",
        "result"
      ],
      "execution_count": null,
      "outputs": [
        {
          "output_type": "execute_result",
          "data": {
            "text/plain": [
              "array([[48,  0],\n",
              "       [14,  0]])"
            ]
          },
          "metadata": {
            "tags": []
          },
          "execution_count": 265
        }
      ]
    }
  ]
}